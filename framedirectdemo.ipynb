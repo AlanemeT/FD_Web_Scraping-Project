{
 "cells": [
  {
   "cell_type": "markdown",
   "id": "528fa66f",
   "metadata": {},
   "source": [
    "### Web Scraping Script on Framedirect.com: Challenges and Solutions"
   ]
  },
  {
   "cell_type": "markdown",
   "id": "49c615dc",
   "metadata": {},
   "source": [
    "#### Overview\n",
    "\n",
    "##### This script automates the extraction of eyeglasses product data from FramesDirect using Selenium and BeautifulSoup, storing the results in CSV and JSON formats. It is designed to navigate dynamic JavaScript-rendered content and handle missing or inconsistent product data."
   ]
  },
  {
   "cell_type": "markdown",
   "id": "bd8ca8a6",
   "metadata": {},
   "source": [
    "#### Challenges Encountered"
   ]
  },
  {
   "cell_type": "markdown",
   "id": "9f465f49",
   "metadata": {},
   "source": [
    "##### 1.\tDynamic Content Loading\n",
    "##### - Problem: The product information on FramesDirect is rendered via JavaScript, which means traditional HTML requests (like requests.get) cannot fetch complete data. Without waiting, elements may not exist when parsing starts, leading to errors or empty results.\n",
    "##### - Solution: Selenium’s WebDriverWait with EC.presence_of_element_located ensures the script waits for the product tiles (mobile_body_wrapper) to load fully before parsing.\n",
    "##### 2.\tHeadless Browser Limitations\n",
    "##### -\tProblem: Running Chrome in headless mode sometimes caused rendering or detection issues, including missing elements or being blocked.\n",
    "##### -\tSolution: Custom user-agent string was added to mimic a real browser session, reducing the risk of being flagged as a bot. Additional headless options (--disable-gpu) improve compatibility across environments.\n",
    "##### 3.\tElement Detection Failures\n",
    "##### -\tProblem: Some product tiles had missing attributes like brand, name, or price, which could break the extraction loop.\n",
    "##### -\tSolution: Conditional checks (if ... else None) were added for each data point, ensuring missing fields are handled gracefully without interrupting the script. This ensures data consistency and completeness.\n",
    "##### 4.\tData Formatting and Storage\n",
    "##### -\tProblem: Storing extracted data required consistent structure, especially when fields were missing for some products.\n",
    "##### -\tSolution: Dictionary-based data collection was implemented, with dynamic column detection for CSV output. Data is exported to both CSV and JSON formats for flexibility in analysis.\n",
    "##### 5.\tError Handling\n",
    "##### -\tProblem: Timeouts, page load failures, or unexpected site changes could crash the script.\n",
    "##### -\tSolution: Try-except blocks around Selenium waits and parsing steps ensure the browser closes gracefully on error, providing informative messages for debugging.\n"
   ]
  },
  {
   "cell_type": "markdown",
   "id": "ee27848b",
   "metadata": {},
   "source": [
    "### Outcome"
   ]
  },
  {
   "cell_type": "markdown",
   "id": "4b9162f8",
   "metadata": {},
   "source": [
    "##### The final script successfully extracted product information, including brand, name, pricing, and discounts, and stored 100% of the available data in framedirect_data.csv and framedirect.json. It is resilient to missing fields, dynamic content delays, and headless browser quirks."
   ]
  },
  {
   "cell_type": "markdown",
   "id": "1e871788",
   "metadata": {},
   "source": []
  }
 ],
 "metadata": {
  "kernelspec": {
   "display_name": "venv",
   "language": "python",
   "name": "python3"
  },
  "language_info": {
   "codemirror_mode": {
    "name": "ipython",
    "version": 3
   },
   "file_extension": ".py",
   "mimetype": "text/x-python",
   "name": "python",
   "nbconvert_exporter": "python",
   "pygments_lexer": "ipython3",
   "version": "3.12.7"
  }
 },
 "nbformat": 4,
 "nbformat_minor": 5
}
